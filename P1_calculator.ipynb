{
 "cells": [
  {
   "cell_type": "code",
   "execution_count": 1,
   "id": "1709d49e-9ce3-4bb8-bf56-cd3d08f259fc",
   "metadata": {},
   "outputs": [
    {
     "name": "stdout",
     "output_type": "stream",
     "text": [
      "\n",
      "\t\tSimple Calculator\n",
      "\n",
      "Select Operation\n",
      "\n",
      "1. Add\n",
      "2. Subtract\n",
      "3. Multiply\n",
      "4. Divide\n",
      "5. Power (x^y)\n",
      "6. Modulus (x % y)\n",
      "7. Square Root (√x)\n",
      "8. fact (x!)\n",
      "Press 'q' to exit\n"
     ]
    },
    {
     "name": "stdin",
     "output_type": "stream",
     "text": [
      "\n",
      "Enter your Choice (1-8) or 'q' to exit:  f\n"
     ]
    },
    {
     "name": "stdout",
     "output_type": "stream",
     "text": [
      "Invalid Choice! Please enter 1-8 or 'q' to exit\n"
     ]
    },
    {
     "name": "stdin",
     "output_type": "stream",
     "text": [
      "\n",
      "Enter your Choice (1-8) or 'q' to exit:  1\n",
      "Enter First Number:  fc\n"
     ]
    },
    {
     "name": "stdout",
     "output_type": "stream",
     "text": [
      "Invalid Input! Please Enter Numeric Values\n"
     ]
    },
    {
     "name": "stdin",
     "output_type": "stream",
     "text": [
      "\n",
      "Enter your Choice (1-8) or 'q' to exit:  1\n",
      "Enter First Number:  2\n",
      "Enter Second Number:  3\n"
     ]
    },
    {
     "name": "stdout",
     "output_type": "stream",
     "text": [
      "Result: 2.0 + 3.0 = 5.0\n"
     ]
    },
    {
     "name": "stdin",
     "output_type": "stream",
     "text": [
      "\n",
      "Enter your Choice (1-8) or 'q' to exit:  2\n",
      "Enter First Number:  7.5\n",
      "Enter Second Number:  5\n"
     ]
    },
    {
     "name": "stdout",
     "output_type": "stream",
     "text": [
      "Result: 7.5 - 5.0 = 2.5\n"
     ]
    },
    {
     "name": "stdin",
     "output_type": "stream",
     "text": [
      "\n",
      "Enter your Choice (1-8) or 'q' to exit:  3\n",
      "Enter First Number:  7\n",
      "Enter Second Number:  6\n"
     ]
    },
    {
     "name": "stdout",
     "output_type": "stream",
     "text": [
      "Result: 7.0 * 6.0 = 42.0\n"
     ]
    },
    {
     "name": "stdin",
     "output_type": "stream",
     "text": [
      "\n",
      "Enter your Choice (1-8) or 'q' to exit:  4\n",
      "Enter First Number:  6\n",
      "Enter Second Number:  3\n"
     ]
    },
    {
     "name": "stdout",
     "output_type": "stream",
     "text": [
      "Result: 6.0 / 3.0 = 2.0\n"
     ]
    },
    {
     "name": "stdin",
     "output_type": "stream",
     "text": [
      "\n",
      "Enter your Choice (1-8) or 'q' to exit:  5\n",
      "Enter First Number:  4\n",
      "Enter Second Number:  3\n"
     ]
    },
    {
     "name": "stdout",
     "output_type": "stream",
     "text": [
      "Result: 4.0 ^ 3.0 = 64.0\n"
     ]
    },
    {
     "name": "stdin",
     "output_type": "stream",
     "text": [
      "\n",
      "Enter your Choice (1-8) or 'q' to exit:  6\n",
      "Enter First Number:  6\n",
      "Enter Second Number:  5\n"
     ]
    },
    {
     "name": "stdout",
     "output_type": "stream",
     "text": [
      "Result: 6.0 % 5.0 = 1.0\n"
     ]
    },
    {
     "name": "stdin",
     "output_type": "stream",
     "text": [
      "\n",
      "Enter your Choice (1-8) or 'q' to exit:  7\n",
      "Enter a Number:  81\n"
     ]
    },
    {
     "name": "stdout",
     "output_type": "stream",
     "text": [
      "Result: √81.0 = 9.0\n"
     ]
    },
    {
     "name": "stdin",
     "output_type": "stream",
     "text": [
      "\n",
      "Enter your Choice (1-8) or 'q' to exit:  8\n",
      "Enter an Integer:  5\n"
     ]
    },
    {
     "name": "stdout",
     "output_type": "stream",
     "text": [
      "Result: 5! = 120\n"
     ]
    },
    {
     "name": "stdin",
     "output_type": "stream",
     "text": [
      "\n",
      "Enter your Choice (1-8) or 'q' to exit:  q\n"
     ]
    },
    {
     "name": "stdout",
     "output_type": "stream",
     "text": [
      "Exit!\n"
     ]
    }
   ],
   "source": [
    "import math\n",
    "\n",
    "def add(x, y):\n",
    "    return x + y\n",
    "\n",
    "def subtract(x, y):\n",
    "    return x - y\n",
    "\n",
    "def multiply(x, y):\n",
    "    return x * y\n",
    "\n",
    "def divide(x, y):\n",
    "    if y == 0:\n",
    "        return \"Error! Division by Zero\"\n",
    "    return x / y\n",
    "\n",
    "def power(x, y):\n",
    "    return x ** y\n",
    "\n",
    "def modulus(x, y):\n",
    "    return x % y\n",
    "\n",
    "def sqrt(x):\n",
    "    if x < 0:\n",
    "        return \"Error! Negative number\"\n",
    "    return math.sqrt(x)\n",
    "\n",
    "def fact(x):\n",
    "    if x < 0:\n",
    "        return \"Error! Negative number\"\n",
    "    return math.factorial(int(x))\n",
    "\n",
    "\n",
    "print(\"\\n\\t\\tSimple Calculator\\n\")\n",
    "print(\"Select Operation\\n\")\n",
    "print(\"1. Add\")\n",
    "print(\"2. Subtract\")\n",
    "print(\"3. Multiply\")\n",
    "print(\"4. Divide\")\n",
    "print(\"5. Power (x^y)\")\n",
    "print(\"6. Modulus (x % y)\")\n",
    "print(\"7. Square Root (√x)\")\n",
    "print(\"8. fact (x!)\")\n",
    "print(\"Press 'q' to exit\")\n",
    "\n",
    "while True:\n",
    "    choice = input(\"\\nEnter your Choice (1-8) or 'q' to exit: \")\n",
    "\n",
    "    if choice == \"q\":\n",
    "        print(\"Exit!\")\n",
    "        break\n",
    "\n",
    "    if choice in (\"1\",\"2\",\"3\",\"4\",\"5\",\"6\"):\n",
    "        try:\n",
    "            num1 = float(input(\"Enter First Number: \"))\n",
    "            num2 = float(input(\"Enter Second Number: \"))\n",
    "        except ValueError:\n",
    "            print(\"Invalid Input! Please Enter Numeric Values\")\n",
    "            continue\n",
    "\n",
    "        if choice == \"1\":\n",
    "            print(f\"Result: {num1} + {num2} = {add(num1, num2)}\")\n",
    "\n",
    "        elif choice == \"2\":\n",
    "            print(f\"Result: {num1} - {num2} = {subtract(num1, num2)}\")\n",
    "\n",
    "        elif choice == \"3\":\n",
    "            print(f\"Result: {num1} * {num2} = {multiply(num1, num2)}\")\n",
    "\n",
    "        elif choice == \"4\":\n",
    "            print(f\"Result: {num1} / {num2} = {divide(num1, num2)}\")\n",
    "\n",
    "        elif choice == \"5\":\n",
    "            print(f\"Result: {num1} ^ {num2} = {power(num1, num2)}\")\n",
    "\n",
    "        elif choice == \"6\":\n",
    "            print(f\"Result: {num1} % {num2} = {modulus(num1, num2)}\")\n",
    "\n",
    "    elif choice == \"7\":\n",
    "        try:\n",
    "            num = float(input(\"Enter a Number: \"))\n",
    "            print(f\"Result: √{num} = {sqrt(num)}\")\n",
    "        except ValueError:\n",
    "            print(\"Invalid Input! Please Enter a Numeric Value\")\n",
    "\n",
    "    elif choice == \"8\":\n",
    "        try:\n",
    "            num = int(input(\"Enter an Integer: \"))\n",
    "            print(f\"Result: {num}! = {fact(num)}\")\n",
    "        except ValueError:\n",
    "            print(\"Invalid Input! Please Enter an Integer\")\n",
    "\n",
    "    else:\n",
    "        print(\"Invalid Choice! Please enter 1-8 or 'q' to exit\")\n"
   ]
  },
  {
   "cell_type": "code",
   "execution_count": null,
   "id": "e824a326-e8e6-4191-b6dd-1c578e787a79",
   "metadata": {},
   "outputs": [],
   "source": []
  }
 ],
 "metadata": {
  "kernelspec": {
   "display_name": "Python 3 (ipykernel)",
   "language": "python",
   "name": "python3"
  },
  "language_info": {
   "codemirror_mode": {
    "name": "ipython",
    "version": 3
   },
   "file_extension": ".py",
   "mimetype": "text/x-python",
   "name": "python",
   "nbconvert_exporter": "python",
   "pygments_lexer": "ipython3",
   "version": "3.12.4"
  }
 },
 "nbformat": 4,
 "nbformat_minor": 5
}
